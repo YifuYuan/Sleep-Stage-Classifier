{
  "nbformat": 4,
  "nbformat_minor": 0,
  "metadata": {
    "colab": {
      "provenance": [],
      "authorship_tag": "ABX9TyOecpYoWPLfl0KCOfYDMocQ",
      "include_colab_link": true
    },
    "kernelspec": {
      "name": "python3",
      "display_name": "Python 3"
    },
    "language_info": {
      "name": "python"
    },
    "accelerator": "GPU",
    "gpuClass": "premium"
  },
  "cells": [
    {
      "cell_type": "markdown",
      "metadata": {
        "id": "view-in-github",
        "colab_type": "text"
      },
      "source": [
        "<a href=\"https://colab.research.google.com/github/YifuYuan/Sleep_stage_classifier/blob/main/EEG_spectrogram_classifier.ipynb\" target=\"_parent\"><img src=\"https://colab.research.google.com/assets/colab-badge.svg\" alt=\"Open In Colab\"/></a>"
      ]
    },
    {
      "cell_type": "code",
      "source": [
        "!rm -rf 'training_set_balanced'\n",
        "!rm -rf 'test_set'"
      ],
      "metadata": {
        "id": "un8aC_gythW-"
      },
      "execution_count": null,
      "outputs": []
    },
    {
      "cell_type": "code",
      "execution_count": null,
      "metadata": {
        "id": "aa52d6P2g0x2"
      },
      "outputs": [],
      "source": [
        "import tensorflow as tf\n",
        "print(tf.__version__)"
      ]
    },
    {
      "cell_type": "code",
      "source": [
        "import numpy as np\n",
        "import pandas as pd\n",
        "import tensorflow as tf\n",
        "import matplotlib.pyplot as plt\n",
        "import os\n",
        "import wave\n",
        "import pylab\n",
        "from pathlib import Path\n",
        "from scipy import signal\n",
        "from scipy.io import wavfile\n",
        "from sklearn.metrics import confusion_matrix\n",
        "import itertools"
      ],
      "metadata": {
        "id": "FCE1PjCThGVk"
      },
      "execution_count": null,
      "outputs": []
    },
    {
      "cell_type": "code",
      "source": [
        "!unzip training_set_balanced.zip\n",
        "!unzip test_set.zip"
      ],
      "metadata": {
        "id": "eI2Gm-PJvpB-"
      },
      "execution_count": null,
      "outputs": []
    },
    {
      "cell_type": "code",
      "source": [
        "IMAGE_HEIGHT = 154\n",
        "IMAGE_WIDTH = 28\n",
        "BATCH_SIZE = 25\n",
        "N_CHANNELS = 3\n",
        "N_CLASSES = 5\n",
        "\n",
        "# Make a dataset containing the training spectrograms\n",
        "train_dataset = tf.keras.preprocessing.image_dataset_from_directory(\n",
        "                                             batch_size=BATCH_SIZE,\n",
        "                                             validation_split=0.3,\n",
        "                                             directory=os.path.join('/content', 'training_set_balanced'),\n",
        "                                             shuffle=True,\n",
        "                                             color_mode='rgb',\n",
        "                                             image_size=(IMAGE_HEIGHT, IMAGE_WIDTH),\n",
        "                                             subset=\"training\",\n",
        "                                             seed=0)\n",
        "\n",
        "# Make a dataset containing the validation spectrogram\n",
        "valid_dataset = tf.keras.preprocessing.image_dataset_from_directory(\n",
        "                                             batch_size=BATCH_SIZE,\n",
        "                                             validation_split=0.3,\n",
        "                                             directory=os.path.join('/content', 'training_set_balanced'),\n",
        "                                             shuffle=True,\n",
        "                                             color_mode='rgb',\n",
        "                                             image_size=(IMAGE_HEIGHT, IMAGE_WIDTH),\n",
        "                                             subset=\"validation\",\n",
        "                                             seed=0)\n",
        "\n",
        "# Make test set\n",
        "test_dataset = tf.keras.preprocessing.image_dataset_from_directory(\n",
        "                                             batch_size=BATCH_SIZE,\n",
        "                                             validation_split=0,\n",
        "                                             directory=os.path.join('/content', 'test_set'),\n",
        "                                             shuffle=False,\n",
        "                                             color_mode='rgb',\n",
        "                                             image_size=(IMAGE_HEIGHT, IMAGE_WIDTH),\n",
        "                                             seed=0)\n",
        "\n"
      ],
      "metadata": {
        "colab": {
          "base_uri": "https://localhost:8080/"
        },
        "id": "J4VjsZH6h3q2",
        "outputId": "8b41f71a-1a26-4d80-fd3f-7152ef52eda3"
      },
      "execution_count": null,
      "outputs": [
        {
          "output_type": "stream",
          "name": "stdout",
          "text": [
            "Found 10000 files belonging to 5 classes.\n",
            "Using 7000 files for training.\n",
            "Found 10000 files belonging to 5 classes.\n",
            "Using 3000 files for validation.\n",
            "Found 1246 files belonging to 5 classes.\n"
          ]
        }
      ]
    },
    {
      "cell_type": "code",
      "source": [
        "plt.figure(figsize=(7, 36))\n",
        "for images, labels in train_dataset.take(1):\n",
        "    for i in range(3):\n",
        "        ax = plt.subplot(3, 3, i + 1)\n",
        "        plt.imshow(images[i].numpy().astype(\"uint8\"))\n",
        "        plt.title(int(labels[i]))\n",
        "        plt.axis(\"off\")\n",
        "        # print(images)   \n",
        "plt.show()"
      ],
      "metadata": {
        "id": "NpRn2sa8weHx"
      },
      "execution_count": null,
      "outputs": []
    },
    {
      "cell_type": "code",
      "source": [
        "# Create CNN model----modified\n",
        "model = tf.keras.models.Sequential()\n",
        "model.add(tf.keras.layers.Input(shape=(IMAGE_HEIGHT, IMAGE_WIDTH, N_CHANNELS)))\n",
        "model.add(tf.keras.layers.Conv2D(32, 3, activation='relu'))\n",
        "model.add(tf.keras.layers.MaxPooling2D(pool_size=(2, 2)))\n",
        "model.add(tf.keras.layers.Conv2D(64, 3, activation='relu'))\n",
        "model.add(tf.keras.layers.MaxPooling2D(pool_size=(2, 2)))\n",
        "model.add(tf.keras.layers.Conv2D(128, 3, activation='relu'))\n",
        "model.add(tf.keras.layers.MaxPooling2D(pool_size=(2, 2)))\n",
        "model.add(tf.keras.layers.Flatten()) # reshapes the tensor to have a shape that is equal to the number of elements contained in the tensor \n",
        "# model.add(tf.keras.layers.Dense(256, activation='relu'))\n",
        "model.add(tf.keras.layers.Dropout(0.5))\n",
        "model.add(tf.keras.layers.Dense(N_CLASSES, activation='softmax'))\n",
        "\n",
        "# Compile model\n",
        "model.compile(\n",
        "    loss='sparse_categorical_crossentropy',\n",
        "    optimizer=tf.keras.optimizers.RMSprop(),\n",
        "    metrics=['accuracy'],\n",
        ")\n",
        "\n",
        "# Train model for 10 epochs, capture the history\n",
        "history = model.fit(train_dataset, epochs=10, validation_data=valid_dataset)"
      ],
      "metadata": {
        "colab": {
          "base_uri": "https://localhost:8080/"
        },
        "id": "0RJrlVxRN-lA",
        "outputId": "d18d2d73-6cbb-46bb-eb33-683df4116d4a"
      },
      "execution_count": null,
      "outputs": [
        {
          "output_type": "stream",
          "name": "stdout",
          "text": [
            "Epoch 1/10\n",
            "280/280 [==============================] - 3s 6ms/step - loss: 2.2026 - accuracy: 0.4479 - val_loss: 0.9632 - val_accuracy: 0.6037\n",
            "Epoch 2/10\n",
            "280/280 [==============================] - 2s 5ms/step - loss: 1.0388 - accuracy: 0.5801 - val_loss: 0.8627 - val_accuracy: 0.6417\n",
            "Epoch 3/10\n",
            "280/280 [==============================] - 2s 5ms/step - loss: 0.9571 - accuracy: 0.6031 - val_loss: 0.8460 - val_accuracy: 0.6523\n",
            "Epoch 4/10\n",
            "280/280 [==============================] - 2s 5ms/step - loss: 0.9202 - accuracy: 0.6241 - val_loss: 0.7858 - val_accuracy: 0.6877\n",
            "Epoch 5/10\n",
            "280/280 [==============================] - 2s 6ms/step - loss: 0.8748 - accuracy: 0.6556 - val_loss: 0.8956 - val_accuracy: 0.6327\n",
            "Epoch 6/10\n",
            "280/280 [==============================] - 2s 6ms/step - loss: 0.8548 - accuracy: 0.6629 - val_loss: 0.7889 - val_accuracy: 0.6927\n",
            "Epoch 7/10\n",
            "280/280 [==============================] - 2s 6ms/step - loss: 0.8656 - accuracy: 0.6614 - val_loss: 0.7597 - val_accuracy: 0.6880\n",
            "Epoch 8/10\n",
            "280/280 [==============================] - 2s 6ms/step - loss: 0.8347 - accuracy: 0.6683 - val_loss: 0.7761 - val_accuracy: 0.6793\n",
            "Epoch 9/10\n",
            "280/280 [==============================] - 2s 6ms/step - loss: 0.8042 - accuracy: 0.6769 - val_loss: 0.7571 - val_accuracy: 0.6927\n",
            "Epoch 10/10\n",
            "280/280 [==============================] - 2s 6ms/step - loss: 0.8015 - accuracy: 0.6861 - val_loss: 0.8466 - val_accuracy: 0.6470\n"
          ]
        }
      ]
    },
    {
      "cell_type": "code",
      "source": [
        "model.summary()"
      ],
      "metadata": {
        "colab": {
          "base_uri": "https://localhost:8080/"
        },
        "id": "dPa35Q5iRvOJ",
        "outputId": "227ca35f-939f-4bcf-c87d-4cf1467abb5d"
      },
      "execution_count": null,
      "outputs": [
        {
          "output_type": "stream",
          "name": "stdout",
          "text": [
            "Model: \"sequential_2\"\n",
            "_________________________________________________________________\n",
            " Layer (type)                Output Shape              Param #   \n",
            "=================================================================\n",
            " conv2d_6 (Conv2D)           (None, 152, 26, 32)       896       \n",
            "                                                                 \n",
            " max_pooling2d_6 (MaxPooling  (None, 76, 13, 32)       0         \n",
            " 2D)                                                             \n",
            "                                                                 \n",
            " conv2d_7 (Conv2D)           (None, 74, 11, 64)        18496     \n",
            "                                                                 \n",
            " max_pooling2d_7 (MaxPooling  (None, 37, 5, 64)        0         \n",
            " 2D)                                                             \n",
            "                                                                 \n",
            " conv2d_8 (Conv2D)           (None, 35, 3, 128)        73856     \n",
            "                                                                 \n",
            " max_pooling2d_8 (MaxPooling  (None, 17, 1, 128)       0         \n",
            " 2D)                                                             \n",
            "                                                                 \n",
            " flatten_2 (Flatten)         (None, 2176)              0         \n",
            "                                                                 \n",
            " dropout_2 (Dropout)         (None, 2176)              0         \n",
            "                                                                 \n",
            " dense_4 (Dense)             (None, 5)                 10885     \n",
            "                                                                 \n",
            "=================================================================\n",
            "Total params: 104,133\n",
            "Trainable params: 104,133\n",
            "Non-trainable params: 0\n",
            "_________________________________________________________________\n"
          ]
        }
      ]
    },
    {
      "cell_type": "code",
      "source": [
        "# Get the confusion matrix\n",
        "predictions = model.predict(test_dataset)\n",
        "label_pred = np.array([])\n",
        "for sub in predictions:\n",
        "  max_idx = np.argmax(sub)\n",
        "  label_pred = np.append(label_pred, max_idx)\n",
        "\n",
        "test_label = np.concatenate([y for x, y in test_dataset], axis=0)\n",
        "\n",
        "cm = confusion_matrix(test_label, label_pred)\n",
        "\n",
        "accuracy_matrix = cm.astype('float') / cm.sum(axis=1)[:, np.newaxis]\n",
        "accuracy = accuracy_matrix.diagonal()\n",
        "print(cm)\n",
        "print(accuracy)"
      ],
      "metadata": {
        "colab": {
          "base_uri": "https://localhost:8080/"
        },
        "id": "HYNqjOt1yJ9g",
        "outputId": "70b56706-b243-4792-acb4-386a00d7f8ac"
      },
      "execution_count": null,
      "outputs": [
        {
          "output_type": "stream",
          "name": "stdout",
          "text": [
            "50/50 [==============================] - 0s 2ms/step\n",
            "[[ 63  67   6  22  64]\n",
            " [  6  48   7   1  52]\n",
            " [  8  64 445  64  35]\n",
            " [  2   0  16  94   2]\n",
            " [  9  41  29   4  97]]\n",
            "[0.28378378 0.42105263 0.7224026  0.8245614  0.53888889]\n"
          ]
        }
      ]
    },
    {
      "cell_type": "code",
      "source": [
        "print(label_pred[0:20])\n",
        "print(test_label[0:20])"
      ],
      "metadata": {
        "colab": {
          "base_uri": "https://localhost:8080/"
        },
        "id": "K4AsSA41q8og",
        "outputId": "3be7252d-3dde-4518-d3ae-4b2f40e3cdfb"
      },
      "execution_count": null,
      "outputs": [
        {
          "output_type": "stream",
          "name": "stdout",
          "text": [
            "[1. 0. 1. 1. 0. 0. 4. 0. 0. 3. 0. 4. 0. 0. 0. 0. 0. 1. 0. 0.]\n",
            "[0 0 0 0 0 0 0 0 0 0 0 0 0 0 0 0 0 0 0 0]\n"
          ]
        }
      ]
    },
    {
      "cell_type": "code",
      "source": [
        "# Plot the loss curves for training and validation.\n",
        "history_dict = history.history\n",
        "loss_values = history_dict['loss']\n",
        "val_loss_values = history_dict['val_loss']\n",
        "epochs = range(1, len(loss_values)+1)\n",
        "\n",
        "plt.figure(figsize=(8,6))\n",
        "plt.plot(epochs, loss_values, 'bo', label='Training loss')\n",
        "plt.plot(epochs, val_loss_values, 'b', label='Validation loss')\n",
        "plt.title('Training and validation loss')\n",
        "plt.xlabel('Epochs')\n",
        "plt.ylabel('Loss')\n",
        "plt.legend()\n",
        "plt.show()"
      ],
      "metadata": {
        "colab": {
          "base_uri": "https://localhost:8080/",
          "height": 404
        },
        "id": "wrkdm4jDzeuF",
        "outputId": "da09f27a-d937-42d4-db3a-30648b07cb49"
      },
      "execution_count": null,
      "outputs": [
        {
          "output_type": "display_data",
          "data": {
            "text/plain": [
              "<Figure size 576x432 with 1 Axes>"
            ],
            "image/png": "[encoded data removed]"
          },
          "metadata": {
            "needs_background": "light"
          }
        }
      ]
    },
    {
      "cell_type": "code",
      "source": [
        "# Plot the accuracy curves for training and validation.\n",
        "acc_values = history_dict['accuracy']\n",
        "val_acc_values = history_dict['val_accuracy']\n",
        "epochs = range(1, len(acc_values)+1)\n",
        "\n",
        "plt.figure(figsize=(8,6))\n",
        "plt.plot(epochs, acc_values, 'bo', label='Training accuracy')\n",
        "plt.plot(epochs, val_acc_values, 'b', label='Validation accuracy')\n",
        "plt.title('Training and validation accuracy')\n",
        "plt.xlabel('Epochs')\n",
        "plt.ylabel('Accuracy')\n",
        "plt.legend()\n",
        "plt.show()"
      ],
      "metadata": {
        "colab": {
          "base_uri": "https://localhost:8080/",
          "height": 404
        },
        "id": "tLQ_03QIzgJN",
        "outputId": "cb954689-0fb4-4be0-c3a5-786ae25a8f8e"
      },
      "execution_count": null,
      "outputs": [
        {
          "output_type": "display_data",
          "data": {
            "text/plain": [
              "<Figure size 576x432 with 1 Axes>"
            ],
            "image/png": "[encoded data removed]"
          },
          "metadata": {
            "needs_background": "light"
          }
        }
      ]
    },
    {
      "cell_type": "code",
      "source": [
        "# Function to prepare our datasets for modelling\n",
        "def prepare(ds, augment=False):\n",
        "    # Define our one transformation\n",
        "    rescale = tf.keras.Sequential([tf.keras.layers.experimental.preprocessing.Rescaling(1./255)])\n",
        "    flip_and_rotate = tf.keras.Sequential([\n",
        "        tf.keras.layers.experimental.preprocessing.RandomFlip(\"horizontal_and_vertical\"),\n",
        "        tf.keras.layers.experimental.preprocessing.RandomRotation(0.2)\n",
        "    ])\n",
        "    \n",
        "    # Apply rescale to both datasets and augmentation only to training\n",
        "    ds = ds.map(lambda x, y: (rescale(x, training=True), y))\n",
        "    if augment: ds = ds.map(lambda x, y: (flip_and_rotate(x, training=True), y))\n",
        "    return ds\n",
        "\n",
        "train_dataset = prepare(train_dataset, augment=False)\n",
        "valid_dataset = prepare(valid_dataset, augment=False)  \n",
        "# test_dataset = prepare(valid_dataset, augment=False) "
      ],
      "metadata": {
        "id": "WLSBC2oZyd66"
      },
      "execution_count": null,
      "outputs": []
    },
    {
      "cell_type": "code",
      "source": [
        "# Create CNN model\n",
        "model = tf.keras.models.Sequential()\n",
        "model.add(tf.keras.layers.Input(shape=(IMAGE_HEIGHT, IMAGE_WIDTH, N_CHANNELS)))\n",
        "model.add(tf.keras.layers.Conv2D(32, 3, strides=2, padding='same', activation='relu'))\n",
        "model.add(tf.keras.layers.BatchNormalization())\n",
        "model.add(tf.keras.layers.MaxPooling2D(pool_size=(2, 2)))\n",
        "model.add(tf.keras.layers.BatchNormalization())\n",
        "model.add(tf.keras.layers.Conv2D(64, 3, padding='same', activation='relu'))\n",
        "model.add(tf.keras.layers.BatchNormalization())\n",
        "model.add(tf.keras.layers.MaxPooling2D(pool_size=(2, 2)))\n",
        "model.add(tf.keras.layers.BatchNormalization())\n",
        "model.add(tf.keras.layers.Conv2D(128, 3, padding='same', activation='relu'))\n",
        "model.add(tf.keras.layers.BatchNormalization())\n",
        "model.add(tf.keras.layers.MaxPooling2D(pool_size=(2, 2)))\n",
        "model.add(tf.keras.layers.BatchNormalization())\n",
        "model.add(tf.keras.layers.Flatten())\n",
        "model.add(tf.keras.layers.Dense(256, activation='relu'))\n",
        "model.add(tf.keras.layers.BatchNormalization())\n",
        "model.add(tf.keras.layers.Dropout(0.5))\n",
        "model.add(tf.keras.layers.Dense(N_CLASSES, activation='softmax'))\n",
        "\n",
        "# Compile model\n",
        "model.compile(\n",
        "    loss='sparse_categorical_crossentropy',\n",
        "    optimizer=tf.keras.optimizers.RMSprop(),\n",
        "    metrics=['accuracy'],\n",
        ")\n",
        "\n",
        "# Train model for 10 epochs, capture the history\n",
        "# history = model.fit(train_dataset, epochs=10, validation_data=valid_dataset)"
      ],
      "metadata": {
        "id": "xzJpqLfsykAn"
      },
      "execution_count": null,
      "outputs": []
    }
  ]
}